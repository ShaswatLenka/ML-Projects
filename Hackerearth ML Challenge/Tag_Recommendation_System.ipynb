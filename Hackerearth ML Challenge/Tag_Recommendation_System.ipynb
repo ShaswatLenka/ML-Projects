{
 "cells": [
  {
   "cell_type": "markdown",
   "metadata": {},
   "source": [
    "# Tag Recommendation System\n",
    "#### Author: Shaswat Lenka\n",
    "#### Created: 23 Oct 2018\n",
    "\n",
    "## Problem Statement:\n",
    "HackerEarth wants to improve its customer experience by suggesting tags for any idea submitted by a participant for a given hackathon. Currently, tags can only be manually added by a participant. We need to Build a model that can predict or generate tags relevant to the idea/ article submitted by a participant.\n",
    "\n",
    "We are provided with approximately 1 million technology-related articles mapped to relevant tags. You need to build a model that can generate relevant tags from the given set of articles.\n",
    "\n",
    "## 1. Importing Libraries"
   ]
  },
  {
   "cell_type": "code",
   "execution_count": 3,
   "metadata": {},
   "outputs": [
    {
     "name": "stdout",
     "output_type": "stream",
     "text": [
      "4\n",
      "svmem(total=8589934592, available=2698055680, percent=68.6, used=5352796160, free=1237598208, active=2256465920, inactive=1460457472, wired=1635872768)\n"
     ]
    }
   ],
   "source": [
    "import time \n",
    "import psutil\n",
    "import numpy as np # linear algebra\n",
    "import pandas as pd # data processing, CSV file I/O (e.g. pd.read_csv)\n",
    "import matplotlib.pyplot as plt\n",
    "import multiprocessing as mp\n",
    "\n",
    "#number of cores\n",
    "num_cores = mp.cpu_count()\n",
    "print(num_cores)\n",
    "#virtual memory usgae\n",
    "print(psutil.virtual_memory())\n",
    "\n",
    "\n",
    "\n",
    "#reading in CSV's from file path\n",
    "dataset= pd.read_csv('./new_dataset/train.csv')\n",
    "\n",
    "#dataset.head()\n"
   ]
  },
  {
   "cell_type": "markdown",
   "metadata": {},
   "source": [
    "## 2. Data Cleaning and Preparation"
   ]
  },
  {
   "cell_type": "code",
   "execution_count": null,
   "metadata": {},
   "outputs": [],
   "source": []
  }
 ],
 "metadata": {
  "kernelspec": {
   "display_name": "Python 3",
   "language": "python",
   "name": "python3"
  },
  "language_info": {
   "codemirror_mode": {
    "name": "ipython",
    "version": 3
   },
   "file_extension": ".py",
   "mimetype": "text/x-python",
   "name": "python",
   "nbconvert_exporter": "python",
   "pygments_lexer": "ipython3",
   "version": "3.6.5"
  }
 },
 "nbformat": 4,
 "nbformat_minor": 2
}
